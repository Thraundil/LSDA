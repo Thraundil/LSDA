{
 "cells": [
  {
   "cell_type": "code",
   "execution_count": 1,
   "metadata": {},
   "outputs": [
    {
     "name": "stderr",
     "output_type": "stream",
     "text": [
      "C:\\ProgramData\\Anaconda3\\lib\\site-packages\\h5py\\__init__.py:34: FutureWarning: Conversion of the second argument of issubdtype from `float` to `np.floating` is deprecated. In future, it will be treated as `np.float64 == np.dtype(float).type`.\n",
      "  from ._conv import register_converters as _register_converters\n",
      "Using TensorFlow backend.\n"
     ]
    }
   ],
   "source": [
    "import os\n",
    "import cv2\n",
    "import numpy as np\n",
    "import pandas as pd\n",
    "import tensorflow as tf\n",
    "\n",
    "from tqdm import tqdm\n",
    "from keras import optimizers\n",
    "from keras.models import Sequential\n",
    "from keras.layers import AveragePooling2D, Flatten, Dropout, Dense\n",
    "from keras.applications import InceptionV3\n",
    "from keras.applications import imagenet_utils\n",
    "from keras.applications.inception_v3 import preprocess_input\n",
    "\n",
    "from keras.preprocessing.image import load_img\n",
    "from keras.preprocessing.image import img_to_array\n",
    "from keras.preprocessing.image import ImageDataGenerator\n",
    "\n",
    "from constants import LABEL_DIR, RAW_IMAGES_DIR, FEATURES_DIR, TOTAL_N, SUBMISSION_FILE_DIR"
   ]
  },
  {
   "cell_type": "code",
   "execution_count": 2,
   "metadata": {
    "collapsed": true
   },
   "outputs": [],
   "source": [
    "#stolen from https://stackoverflow.com/questions/35365007/tensorflow-precision-recall-f1-score-and-confusion-matrix\n",
    "def tf_f1_score(y_true, y_pred):\n",
    "    \"\"\"Computes 3 different f1 scores, micro macro\n",
    "    weighted.\n",
    "    micro: f1 score accross the classes, as 1\n",
    "    macro: mean of f1 scores per class\n",
    "    weighted: weighted average of f1 scores per class,\n",
    "            weighted from the support of each class\n",
    "\n",
    "\n",
    "    Args:\n",
    "        y_true (Tensor): labels, with shape (batch, num_classes)\n",
    "        y_pred (Tensor): model's predictions, same shape as y_true\n",
    "\n",
    "    Returns:\n",
    "        tuple(Tensor): (micro, macro, weighted)\n",
    "                    tuple of the computed f1 scores\n",
    "    \"\"\"\n",
    "\n",
    "    f1s = [0, 0, 0]\n",
    "\n",
    "    y_true = tf.cast(y_true, tf.float64)\n",
    "    y_pred = tf.cast(y_pred, tf.float64)\n",
    "\n",
    "    for i, axis in enumerate([None, 0]):\n",
    "        TP = tf.count_nonzero(y_pred * y_true, axis=axis)\n",
    "        FP = tf.count_nonzero(y_pred * (y_true - 1), axis=axis)\n",
    "        FN = tf.count_nonzero((y_pred - 1) * y_true, axis=axis)\n",
    "\n",
    "        precision = TP / (TP + FP)\n",
    "        recall = TP / (TP + FN)\n",
    "        f1 = 2 * precision * recall / (precision + recall)\n",
    "\n",
    "        f1s[i] = tf.reduce_mean(f1)\n",
    "\n",
    "    weights = tf.reduce_sum(y_true, axis=0)\n",
    "    weights /= tf.reduce_sum(weights)\n",
    "\n",
    "    f1s[2] = tf.reduce_sum(f1 * weights)\n",
    "\n",
    "    micro, macro, weighted = f1s\n",
    "    return micro"
   ]
  },
  {
   "cell_type": "code",
   "execution_count": 3,
   "metadata": {},
   "outputs": [],
   "source": [
    "dummy_cnn_features = np.random.rand(1000,2048)\n",
    "annotations = np.load('../data/labels/annotations.npz')['arr_0'][:1000]"
   ]
  },
  {
   "cell_type": "code",
   "execution_count": 22,
   "metadata": {},
   "outputs": [],
   "source": [
    "top_model = Sequential()\n",
    "top_model.add(Dropout(0.5, input_shape=(2048,)))\n",
    "top_model.add(Dense(229, activation='sigmoid'))\n",
    "\n",
    "top_model.compile(loss='binary_crossentropy',\n",
    "              optimizer='adam',\n",
    "              metrics=['accuracy',tf_f1_score])"
   ]
  },
  {
   "cell_type": "code",
   "execution_count": 28,
   "metadata": {},
   "outputs": [
    {
     "name": "stderr",
     "output_type": "stream",
     "text": [
      "C:\\ProgramData\\Anaconda3\\lib\\site-packages\\keras\\models.py:981: UserWarning: The `nb_epoch` argument in `fit` has been renamed `epochs`.\n",
      "  warnings.warn('The `nb_epoch` argument in `fit` '\n"
     ]
    },
    {
     "name": "stdout",
     "output_type": "stream",
     "text": [
      "Epoch 1/30\n",
      "1000/1000 [==============================] - ETA: 0s - loss: 0.1040 - acc: 0.9748 - tf_f1_score: 0.050 - ETA: 0s - loss: 0.1008 - acc: 0.9758 - tf_f1_score: 0.048 - ETA: 0s - loss: 0.1022 - acc: 0.9754 - tf_f1_score: 0.048 - ETA: 0s - loss: 0.1015 - acc: 0.9754 - tf_f1_score: 0.048 - ETA: 0s - loss: 0.1002 - acc: 0.9756 - tf_f1_score: 0.048 - 0s 321us/step - loss: 0.0994 - acc: 0.9757 - tf_f1_score: 0.0479\n",
      "Epoch 2/30\n",
      "1000/1000 [==============================] - ETA: 0s - loss: 0.0917 - acc: 0.9769 - tf_f1_score: 0.045 - ETA: 0s - loss: 0.0940 - acc: 0.9764 - tf_f1_score: 0.046 - ETA: 0s - loss: 0.0952 - acc: 0.9760 - tf_f1_score: 0.047 - ETA: 0s - loss: 0.0954 - acc: 0.9760 - tf_f1_score: 0.047 - ETA: 0s - loss: 0.0946 - acc: 0.9759 - tf_f1_score: 0.047 - 0s 323us/step - loss: 0.0948 - acc: 0.9759 - tf_f1_score: 0.0479\n",
      "Epoch 3/30\n",
      "1000/1000 [==============================] - ETA: 0s - loss: 0.0929 - acc: 0.9756 - tf_f1_score: 0.048 - ETA: 0s - loss: 0.0927 - acc: 0.9759 - tf_f1_score: 0.048 - ETA: 0s - loss: 0.0920 - acc: 0.9759 - tf_f1_score: 0.048 - ETA: 0s - loss: 0.0913 - acc: 0.9759 - tf_f1_score: 0.048 - ETA: 0s - loss: 0.0913 - acc: 0.9760 - tf_f1_score: 0.047 - 0s 322us/step - loss: 0.0913 - acc: 0.9760 - tf_f1_score: 0.0479\n",
      "Epoch 4/30\n",
      "1000/1000 [==============================] - ETA: 0s - loss: 0.0889 - acc: 0.9768 - tf_f1_score: 0.047 - ETA: 0s - loss: 0.0872 - acc: 0.9768 - tf_f1_score: 0.047 - ETA: 0s - loss: 0.0888 - acc: 0.9764 - tf_f1_score: 0.047 - ETA: 0s - loss: 0.0896 - acc: 0.9761 - tf_f1_score: 0.047 - ETA: 0s - loss: 0.0895 - acc: 0.9761 - tf_f1_score: 0.047 - 0s 339us/step - loss: 0.0890 - acc: 0.9762 - tf_f1_score: 0.0479\n",
      "Epoch 5/30\n",
      "1000/1000 [==============================] - ETA: 0s - loss: 0.0900 - acc: 0.9767 - tf_f1_score: 0.047 - ETA: 0s - loss: 0.0881 - acc: 0.9768 - tf_f1_score: 0.046 - ETA: 0s - loss: 0.0878 - acc: 0.9766 - tf_f1_score: 0.047 - ETA: 0s - loss: 0.0876 - acc: 0.9765 - tf_f1_score: 0.047 - ETA: 0s - loss: 0.0873 - acc: 0.9764 - tf_f1_score: 0.048 - 0s 329us/step - loss: 0.0872 - acc: 0.9764 - tf_f1_score: 0.0479\n",
      "Epoch 6/30\n",
      "1000/1000 [==============================] - ETA: 0s - loss: 0.0852 - acc: 0.9772 - tf_f1_score: 0.047 - ETA: 0s - loss: 0.0856 - acc: 0.9766 - tf_f1_score: 0.048 - ETA: 0s - loss: 0.0858 - acc: 0.9762 - tf_f1_score: 0.048 - ETA: 0s - loss: 0.0858 - acc: 0.9761 - tf_f1_score: 0.048 - ETA: 0s - loss: 0.0855 - acc: 0.9762 - tf_f1_score: 0.047 - 0s 309us/step - loss: 0.0854 - acc: 0.9763 - tf_f1_score: 0.0479\n",
      "Epoch 7/30\n",
      "1000/1000 [==============================] - ETA: 0s - loss: 0.0827 - acc: 0.9770 - tf_f1_score: 0.046 - ETA: 0s - loss: 0.0836 - acc: 0.9770 - tf_f1_score: 0.047 - ETA: 0s - loss: 0.0841 - acc: 0.9766 - tf_f1_score: 0.047 - ETA: 0s - loss: 0.0845 - acc: 0.9764 - tf_f1_score: 0.048 - ETA: 0s - loss: 0.0845 - acc: 0.9765 - tf_f1_score: 0.047 - 0s 310us/step - loss: 0.0848 - acc: 0.9764 - tf_f1_score: 0.0479\n",
      "Epoch 8/30\n",
      "1000/1000 [==============================] - ETA: 0s - loss: 0.0836 - acc: 0.9773 - tf_f1_score: 0.045 - ETA: 0s - loss: 0.0846 - acc: 0.9766 - tf_f1_score: 0.047 - ETA: 0s - loss: 0.0840 - acc: 0.9764 - tf_f1_score: 0.047 - ETA: 0s - loss: 0.0841 - acc: 0.9764 - tf_f1_score: 0.048 - ETA: 0s - loss: 0.0840 - acc: 0.9765 - tf_f1_score: 0.047 - 0s 337us/step - loss: 0.0842 - acc: 0.9764 - tf_f1_score: 0.0479\n",
      "Epoch 9/30\n",
      "1000/1000 [==============================] - ETA: 0s - loss: 0.0822 - acc: 0.9763 - tf_f1_score: 0.046 - ETA: 0s - loss: 0.0811 - acc: 0.9766 - tf_f1_score: 0.047 - ETA: 0s - loss: 0.0814 - acc: 0.9767 - tf_f1_score: 0.047 - ETA: 0s - loss: 0.0820 - acc: 0.9767 - tf_f1_score: 0.047 - ETA: 0s - loss: 0.0823 - acc: 0.9768 - tf_f1_score: 0.047 - 0s 303us/step - loss: 0.0823 - acc: 0.9768 - tf_f1_score: 0.0479\n",
      "Epoch 10/30\n",
      "1000/1000 [==============================] - ETA: 0s - loss: 0.0787 - acc: 0.9776 - tf_f1_score: 0.046 - ETA: 0s - loss: 0.0808 - acc: 0.9769 - tf_f1_score: 0.047 - ETA: 0s - loss: 0.0815 - acc: 0.9770 - tf_f1_score: 0.047 - ETA: 0s - loss: 0.0818 - acc: 0.9769 - tf_f1_score: 0.047 - ETA: 0s - loss: 0.0817 - acc: 0.9770 - tf_f1_score: 0.047 - 0s 305us/step - loss: 0.0818 - acc: 0.9768 - tf_f1_score: 0.0479\n",
      "Epoch 11/30\n",
      "1000/1000 [==============================] - ETA: 0s - loss: 0.0784 - acc: 0.9770 - tf_f1_score: 0.046 - ETA: 0s - loss: 0.0811 - acc: 0.9763 - tf_f1_score: 0.048 - ETA: 0s - loss: 0.0811 - acc: 0.9765 - tf_f1_score: 0.048 - ETA: 0s - loss: 0.0809 - acc: 0.9768 - tf_f1_score: 0.047 - ETA: 0s - loss: 0.0803 - acc: 0.9770 - tf_f1_score: 0.047 - 0s 313us/step - loss: 0.0806 - acc: 0.9768 - tf_f1_score: 0.0479\n",
      "Epoch 12/30\n",
      "1000/1000 [==============================] - ETA: 0s - loss: 0.0755 - acc: 0.9779 - tf_f1_score: 0.046 - ETA: 0s - loss: 0.0779 - acc: 0.9774 - tf_f1_score: 0.047 - ETA: 0s - loss: 0.0800 - acc: 0.9768 - tf_f1_score: 0.047 - ETA: 0s - loss: 0.0806 - acc: 0.9767 - tf_f1_score: 0.048 - ETA: 0s - loss: 0.0802 - acc: 0.9768 - tf_f1_score: 0.047 - 0s 340us/step - loss: 0.0800 - acc: 0.9768 - tf_f1_score: 0.0479\n",
      "Epoch 13/30\n",
      "1000/1000 [==============================] - ETA: 0s - loss: 0.0751 - acc: 0.9777 - tf_f1_score: 0.046 - ETA: 0s - loss: 0.0788 - acc: 0.9764 - tf_f1_score: 0.047 - ETA: 0s - loss: 0.0786 - acc: 0.9768 - tf_f1_score: 0.047 - ETA: 0s - loss: 0.0791 - acc: 0.9767 - tf_f1_score: 0.047 - ETA: 0s - loss: 0.0788 - acc: 0.9768 - tf_f1_score: 0.047 - 0s 306us/step - loss: 0.0792 - acc: 0.9768 - tf_f1_score: 0.0479\n",
      "Epoch 14/30\n",
      "1000/1000 [==============================] - ETA: 0s - loss: 0.0777 - acc: 0.9773 - tf_f1_score: 0.047 - ETA: 0s - loss: 0.0797 - acc: 0.9769 - tf_f1_score: 0.048 - ETA: 0s - loss: 0.0792 - acc: 0.9772 - tf_f1_score: 0.048 - ETA: 0s - loss: 0.0787 - acc: 0.9771 - tf_f1_score: 0.048 - ETA: 0s - loss: 0.0782 - acc: 0.9771 - tf_f1_score: 0.047 - 0s 307us/step - loss: 0.0780 - acc: 0.9771 - tf_f1_score: 0.0479\n",
      "Epoch 15/30\n",
      "1000/1000 [==============================] - ETA: 0s - loss: 0.0755 - acc: 0.9782 - tf_f1_score: 0.047 - ETA: 0s - loss: 0.0767 - acc: 0.9775 - tf_f1_score: 0.047 - ETA: 0s - loss: 0.0762 - acc: 0.9775 - tf_f1_score: 0.047 - ETA: 0s - loss: 0.0757 - acc: 0.9776 - tf_f1_score: 0.047 - ETA: 0s - loss: 0.0763 - acc: 0.9773 - tf_f1_score: 0.047 - 0s 318us/step - loss: 0.0767 - acc: 0.9772 - tf_f1_score: 0.0479\n",
      "Epoch 16/30\n",
      "1000/1000 [==============================] - ETA: 0s - loss: 0.0759 - acc: 0.9773 - tf_f1_score: 0.047 - ETA: 0s - loss: 0.0765 - acc: 0.9772 - tf_f1_score: 0.048 - ETA: 0s - loss: 0.0754 - acc: 0.9773 - tf_f1_score: 0.047 - ETA: 0s - loss: 0.0753 - acc: 0.9773 - tf_f1_score: 0.047 - ETA: 0s - loss: 0.0753 - acc: 0.9774 - tf_f1_score: 0.047 - 0s 318us/step - loss: 0.0759 - acc: 0.9772 - tf_f1_score: 0.0479\n",
      "Epoch 17/30\n",
      "1000/1000 [==============================] - ETA: 0s - loss: 0.0784 - acc: 0.9759 - tf_f1_score: 0.050 - ETA: 0s - loss: 0.0752 - acc: 0.9773 - tf_f1_score: 0.047 - ETA: 0s - loss: 0.0757 - acc: 0.9772 - tf_f1_score: 0.047 - ETA: 0s - loss: 0.0755 - acc: 0.9771 - tf_f1_score: 0.047 - ETA: 0s - loss: 0.0751 - acc: 0.9771 - tf_f1_score: 0.047 - ETA: 0s - loss: 0.0745 - acc: 0.9771 - tf_f1_score: 0.047 - 0s 399us/step - loss: 0.0748 - acc: 0.9772 - tf_f1_score: 0.0479\n",
      "Epoch 18/30\n",
      "1000/1000 [==============================] - ETA: 0s - loss: 0.0732 - acc: 0.9779 - tf_f1_score: 0.047 - ETA: 0s - loss: 0.0743 - acc: 0.9778 - tf_f1_score: 0.047 - ETA: 0s - loss: 0.0742 - acc: 0.9778 - tf_f1_score: 0.047 - ETA: 0s - loss: 0.0741 - acc: 0.9777 - tf_f1_score: 0.047 - ETA: 0s - loss: 0.0742 - acc: 0.9776 - tf_f1_score: 0.047 - 0s 306us/step - loss: 0.0744 - acc: 0.9775 - tf_f1_score: 0.0479\n",
      "Epoch 19/30\n",
      "1000/1000 [==============================] - ETA: 0s - loss: 0.0716 - acc: 0.9785 - tf_f1_score: 0.045 - ETA: 0s - loss: 0.0721 - acc: 0.9779 - tf_f1_score: 0.046 - ETA: 0s - loss: 0.0720 - acc: 0.9778 - tf_f1_score: 0.047 - ETA: 0s - loss: 0.0726 - acc: 0.9776 - tf_f1_score: 0.047 - ETA: 0s - loss: 0.0734 - acc: 0.9774 - tf_f1_score: 0.047 - 0s 301us/step - loss: 0.0736 - acc: 0.9774 - tf_f1_score: 0.0479\n",
      "Epoch 20/30\n"
     ]
    },
    {
     "name": "stdout",
     "output_type": "stream",
     "text": [
      "1000/1000 [==============================] - ETA: 0s - loss: 0.0711 - acc: 0.9780 - tf_f1_score: 0.047 - ETA: 0s - loss: 0.0733 - acc: 0.9772 - tf_f1_score: 0.047 - ETA: 0s - loss: 0.0731 - acc: 0.9773 - tf_f1_score: 0.047 - ETA: 0s - loss: 0.0727 - acc: 0.9772 - tf_f1_score: 0.047 - ETA: 0s - loss: 0.0725 - acc: 0.9774 - tf_f1_score: 0.047 - 0s 339us/step - loss: 0.0727 - acc: 0.9774 - tf_f1_score: 0.0479\n",
      "Epoch 21/30\n",
      "1000/1000 [==============================] - ETA: 0s - loss: 0.0682 - acc: 0.9783 - tf_f1_score: 0.047 - ETA: 0s - loss: 0.0704 - acc: 0.9781 - tf_f1_score: 0.047 - ETA: 0s - loss: 0.0706 - acc: 0.9776 - tf_f1_score: 0.047 - ETA: 0s - loss: 0.0711 - acc: 0.9774 - tf_f1_score: 0.048 - ETA: 0s - loss: 0.0714 - acc: 0.9773 - tf_f1_score: 0.048 - 0s 351us/step - loss: 0.0715 - acc: 0.9774 - tf_f1_score: 0.0479\n",
      "Epoch 22/30\n",
      "1000/1000 [==============================] - ETA: 0s - loss: 0.0712 - acc: 0.9775 - tf_f1_score: 0.047 - ETA: 0s - loss: 0.0706 - acc: 0.9779 - tf_f1_score: 0.047 - ETA: 0s - loss: 0.0714 - acc: 0.9774 - tf_f1_score: 0.047 - ETA: 0s - loss: 0.0712 - acc: 0.9775 - tf_f1_score: 0.048 - ETA: 0s - loss: 0.0711 - acc: 0.9774 - tf_f1_score: 0.048 - 0s 366us/step - loss: 0.0712 - acc: 0.9775 - tf_f1_score: 0.0479\n",
      "Epoch 23/30\n",
      "1000/1000 [==============================] - ETA: 0s - loss: 0.0719 - acc: 0.9762 - tf_f1_score: 0.049 - ETA: 0s - loss: 0.0698 - acc: 0.9773 - tf_f1_score: 0.047 - ETA: 0s - loss: 0.0707 - acc: 0.9771 - tf_f1_score: 0.048 - ETA: 0s - loss: 0.0703 - acc: 0.9772 - tf_f1_score: 0.048 - ETA: 0s - loss: 0.0701 - acc: 0.9774 - tf_f1_score: 0.048 - 0s 316us/step - loss: 0.0697 - acc: 0.9776 - tf_f1_score: 0.0479\n",
      "Epoch 24/30\n",
      "1000/1000 [==============================] - ETA: 0s - loss: 0.0673 - acc: 0.9783 - tf_f1_score: 0.045 - ETA: 0s - loss: 0.0685 - acc: 0.9780 - tf_f1_score: 0.046 - ETA: 0s - loss: 0.0690 - acc: 0.9779 - tf_f1_score: 0.047 - ETA: 0s - loss: 0.0690 - acc: 0.9777 - tf_f1_score: 0.047 - ETA: 0s - loss: 0.0692 - acc: 0.9776 - tf_f1_score: 0.047 - 0s 300us/step - loss: 0.0693 - acc: 0.9776 - tf_f1_score: 0.0479\n",
      "Epoch 25/30\n",
      "1000/1000 [==============================] - ETA: 0s - loss: 0.0685 - acc: 0.9787 - tf_f1_score: 0.044 - ETA: 0s - loss: 0.0682 - acc: 0.9780 - tf_f1_score: 0.046 - ETA: 0s - loss: 0.0675 - acc: 0.9782 - tf_f1_score: 0.047 - ETA: 0s - loss: 0.0673 - acc: 0.9783 - tf_f1_score: 0.047 - ETA: 0s - loss: 0.0677 - acc: 0.9780 - tf_f1_score: 0.047 - 0s 335us/step - loss: 0.0679 - acc: 0.9779 - tf_f1_score: 0.0479\n",
      "Epoch 26/30\n",
      "1000/1000 [==============================] - ETA: 0s - loss: 0.0729 - acc: 0.9761 - tf_f1_score: 0.050 - ETA: 0s - loss: 0.0698 - acc: 0.9770 - tf_f1_score: 0.049 - ETA: 0s - loss: 0.0685 - acc: 0.9777 - tf_f1_score: 0.048 - ETA: 0s - loss: 0.0683 - acc: 0.9777 - tf_f1_score: 0.048 - ETA: 0s - loss: 0.0680 - acc: 0.9777 - tf_f1_score: 0.048 - ETA: 0s - loss: 0.0678 - acc: 0.9778 - tf_f1_score: 0.048 - ETA: 0s - loss: 0.0677 - acc: 0.9778 - tf_f1_score: 0.048 - 0s 411us/step - loss: 0.0676 - acc: 0.9779 - tf_f1_score: 0.0479\n",
      "Epoch 27/30\n",
      "1000/1000 [==============================] - ETA: 0s - loss: 0.0633 - acc: 0.9787 - tf_f1_score: 0.047 - ETA: 0s - loss: 0.0651 - acc: 0.9784 - tf_f1_score: 0.047 - ETA: 0s - loss: 0.0655 - acc: 0.9785 - tf_f1_score: 0.047 - ETA: 0s - loss: 0.0659 - acc: 0.9784 - tf_f1_score: 0.047 - ETA: 0s - loss: 0.0660 - acc: 0.9783 - tf_f1_score: 0.047 - ETA: 0s - loss: 0.0660 - acc: 0.9783 - tf_f1_score: 0.047 - 0s 388us/step - loss: 0.0663 - acc: 0.9781 - tf_f1_score: 0.0479\n",
      "Epoch 28/30\n",
      "1000/1000 [==============================] - ETA: 0s - loss: 0.0673 - acc: 0.9776 - tf_f1_score: 0.048 - ETA: 0s - loss: 0.0644 - acc: 0.9784 - tf_f1_score: 0.046 - ETA: 0s - loss: 0.0655 - acc: 0.9779 - tf_f1_score: 0.048 - ETA: 0s - loss: 0.0649 - acc: 0.9782 - tf_f1_score: 0.047 - ETA: 0s - loss: 0.0651 - acc: 0.9783 - tf_f1_score: 0.047 - 0s 347us/step - loss: 0.0653 - acc: 0.9783 - tf_f1_score: 0.0479\n",
      "Epoch 29/30\n",
      "1000/1000 [==============================] - ETA: 0s - loss: 0.0663 - acc: 0.9774 - tf_f1_score: 0.050 - ETA: 0s - loss: 0.0657 - acc: 0.9780 - tf_f1_score: 0.048 - ETA: 0s - loss: 0.0649 - acc: 0.9783 - tf_f1_score: 0.048 - ETA: 0s - loss: 0.0652 - acc: 0.9782 - tf_f1_score: 0.048 - ETA: 0s - loss: 0.0647 - acc: 0.9782 - tf_f1_score: 0.048 - 0s 353us/step - loss: 0.0648 - acc: 0.9782 - tf_f1_score: 0.0479\n",
      "Epoch 30/30\n",
      "1000/1000 [==============================] - ETA: 0s - loss: 0.0642 - acc: 0.9783 - tf_f1_score: 0.047 - ETA: 0s - loss: 0.0625 - acc: 0.9787 - tf_f1_score: 0.047 - ETA: 0s - loss: 0.0629 - acc: 0.9785 - tf_f1_score: 0.047 - ETA: 0s - loss: 0.0635 - acc: 0.9783 - tf_f1_score: 0.047 - ETA: 0s - loss: 0.0636 - acc: 0.9783 - tf_f1_score: 0.047 - ETA: 0s - loss: 0.0638 - acc: 0.9782 - tf_f1_score: 0.047 - 0s 410us/step - loss: 0.0640 - acc: 0.9782 - tf_f1_score: 0.0479\n"
     ]
    },
    {
     "data": {
      "text/plain": [
       "<keras.callbacks.History at 0x1ef042ec9e8>"
      ]
     },
     "execution_count": 28,
     "metadata": {},
     "output_type": "execute_result"
    }
   ],
   "source": [
    "top_model.fit(dummy_cnn_features,annotations,batch_size=100,nb_epoch=30)\n"
   ]
  },
  {
   "cell_type": "code",
   "execution_count": 24,
   "metadata": {},
   "outputs": [
    {
     "data": {
      "text/plain": [
       "[0.09832346898317337, 0.97689954662323, 0.04785915269761267]"
      ]
     },
     "execution_count": 24,
     "metadata": {},
     "output_type": "execute_result"
    }
   ],
   "source": [
    "score = top_model.evaluate(dummy_cnn_features, annotations, verbose=0)\n",
    "score"
   ]
  },
  {
   "cell_type": "code",
   "execution_count": 25,
   "metadata": {
    "collapsed": true
   },
   "outputs": [],
   "source": [
    "predictions = top_model.predict(dummy_cnn_features)"
   ]
  },
  {
   "cell_type": "code",
   "execution_count": 26,
   "metadata": {},
   "outputs": [
    {
     "name": "stdout",
     "output_type": "stream",
     "text": [
      "Creating submission file in ../data/submissions..\n",
      "[[0 0 0 ... 0 0 0]\n",
      " [0 0 0 ... 0 0 0]\n",
      " [0 0 0 ... 0 0 0]\n",
      " ...\n",
      " [0 0 0 ... 0 0 0]\n",
      " [0 0 0 ... 0 0 0]\n",
      " [0 0 0 ... 0 0 0]]\n",
      "File Saved\n"
     ]
    }
   ],
   "source": [
    "\n",
    "\n",
    "def to_label_list(n_hot):\n",
    "  \"\"\"\n",
    "  transforms a n-hot-matrix into a list of labels\n",
    "  :return:\n",
    "  \"\"\"\n",
    "  return np.array([np.where(labels == 1)[0] for labels in n_hot])\n",
    "\n",
    "def make_kaggle_sub_file(predictions):\n",
    "  #assert predictions.shape[0] == TOTAL_N['test']\n",
    "  \n",
    "  predictions = predictions.round(0).astype(np.uint8)\n",
    "  \n",
    "  test_image_ids = range(1,TOTAL_N['test']+1)\n",
    "\n",
    "  print('Creating submission file in %s..'%SUBMISSION_FILE_DIR)\n",
    "  if not os.path.exists(SUBMISSION_FILE_DIR):\n",
    "    os.makedirs(SUBMISSION_FILE_DIR)\n",
    "  labels = to_label_list(predictions[1:])\n",
    "  out = np.c_[test_image_ids,labels]\n",
    "  out = [','.join([str(row[0]), ' '.join(list(map(str,row[1])))]) for row in out]\n",
    "  file_name = pd.Timestamp.now().strftime('%Y%m%d_%H%M') + '_submission.csv'\n",
    "  with open(os.path.join(SUBMISSION_FILE_DIR,file_name), 'w+') as f:\n",
    "    f.write('image_id,label_id\\n')\n",
    "    for row in out:\n",
    "      f.write(row+'\\n')\n",
    "  print('File Saved')\n",
    "make_kaggle_sub_file(predictions)"
   ]
  },
  {
   "cell_type": "code",
   "execution_count": null,
   "metadata": {
    "collapsed": true
   },
   "outputs": [],
   "source": []
  }
 ],
 "metadata": {
  "kernelspec": {
   "display_name": "Python 3",
   "language": "python",
   "name": "python3"
  },
  "language_info": {
   "codemirror_mode": {
    "name": "ipython",
    "version": 3
   },
   "file_extension": ".py",
   "mimetype": "text/x-python",
   "name": "python",
   "nbconvert_exporter": "python",
   "pygments_lexer": "ipython3",
   "version": "3.6.1"
  }
 },
 "nbformat": 4,
 "nbformat_minor": 2
}
