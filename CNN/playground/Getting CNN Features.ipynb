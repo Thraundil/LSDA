{
 "cells": [
  {
   "cell_type": "code",
   "execution_count": 1,
   "metadata": {
    "collapsed": true
   },
   "outputs": [],
   "source": [
    "import pandas as pd\n",
    "global start_time\n",
    "def start_timer():\n",
    "  global start_time\n",
    "  start_time = pd.Timestamp.now()\n",
    "\n",
    "def tick(msg=''):\n",
    "  print(str(msg)+', Time Taken: %s'%(pd.Timestamp.now() - start_time))"
   ]
  },
  {
   "cell_type": "code",
   "execution_count": 18,
   "metadata": {},
   "outputs": [],
   "source": [
    "import os\n",
    "import cv2\n",
    "import numpy as np\n",
    "\n",
    "from tqdm import tqdm\n",
    "from keras.models import Sequential\n",
    "from keras.layers import AveragePooling2D, Flatten\n",
    "from keras.applications import InceptionV3\n",
    "from keras.applications import imagenet_utils\n",
    "from keras.applications.inception_v3 import preprocess_input\n",
    "\n",
    "from keras.preprocessing.image import load_img\n",
    "from keras.preprocessing.image import img_to_array\n",
    "from keras.preprocessing.image import ImageDataGenerator"
   ]
  },
  {
   "cell_type": "code",
   "execution_count": 24,
   "metadata": {
    "collapsed": true
   },
   "outputs": [],
   "source": [
    "folder = '../data/images/test/'\n",
    "image_files = os.listdir(folder)"
   ]
  },
  {
   "cell_type": "code",
   "execution_count": null,
   "metadata": {},
   "outputs": [
    {
     "name": "stderr",
     "output_type": "stream",
     "text": [
      "\r",
      "  0%|                                                                                        | 0/39706 [00:00<?, ?it/s]"
     ]
    }
   ],
   "source": [
    "inputShape = (299, 299)\n",
    "incep_model = InceptionV3(weights=\"imagenet\", include_top=False)\n",
    "model = Sequential()\n",
    "model.add(incep_model)\n",
    "model.add(AveragePooling2D(pool_size=(8,8), strides=None, padding='valid', data_format=None))\n",
    "\n",
    "for image_file in tqdm(image_files):\n",
    "  image = load_img(os.path.join(folder,image_file), target_size=inputShape)\n",
    "  image = img_to_array(image)\n",
    "  image = np.expand_dims(image, axis=0)\n",
    "  image = preprocess_input(image)\n",
    "  preds = model.predict(image).flatten()\n",
    "  break"
   ]
  },
  {
   "cell_type": "code",
   "execution_count": null,
   "metadata": {},
   "outputs": [],
   "source": [
    "preds.shape"
   ]
  },
  {
   "cell_type": "code",
   "execution_count": 28,
   "metadata": {},
   "outputs": [
    {
     "name": "stdout",
     "output_type": "stream",
     "text": [
      ", Time Taken: 0 days 00:00:00.039026\n",
      ", Time Taken: 0 days 00:00:00.048033\n",
      ", Time Taken: 0 days 00:00:00.054035\n",
      ", Time Taken: 0 days 00:00:00.059039\n",
      ", Time Taken: 0 days 00:00:01.198549\n"
     ]
    }
   ],
   "source": [
    "\n",
    "\n",
    "start_timer()\n",
    "image = load_img('elephant.jpg', target_size=inputShape)\n",
    "tick()\n",
    "image = img_to_array(image)\n",
    "tick()\n",
    "image = np.expand_dims(image, axis=0)\n",
    "tick()\n",
    "image = preprocess_input(image)\n",
    "tick()\n",
    "preds = model.predict(image).squeeze()\n",
    "tick()"
   ]
  },
  {
   "cell_type": "code",
   "execution_count": 29,
   "metadata": {},
   "outputs": [
    {
     "data": {
      "text/plain": [
       "(2048,)"
      ]
     },
     "execution_count": 29,
     "metadata": {},
     "output_type": "execute_result"
    }
   ],
   "source": [
    "preds.shape"
   ]
  },
  {
   "cell_type": "code",
   "execution_count": 9,
   "metadata": {},
   "outputs": [
    {
     "name": "stdout",
     "output_type": "stream",
     "text": [
      "[INFO] classifying image with ...\n"
     ]
    },
    {
     "data": {
      "text/plain": [
       "array([[[[0.        , 0.9215183 , 0.68202084, ..., 1.0715123 ,\n",
       "          0.        , 0.        ],\n",
       "         [0.        , 0.        , 0.        , ..., 1.128449  ,\n",
       "          0.        , 0.18454371],\n",
       "         [0.        , 0.        , 0.        , ..., 0.958958  ,\n",
       "          0.        , 0.54428166],\n",
       "         ...,\n",
       "         [0.35462862, 0.        , 0.        , ..., 0.342765  ,\n",
       "          0.1524922 , 0.07832181],\n",
       "         [0.46060044, 0.        , 0.        , ..., 0.1954246 ,\n",
       "          0.20498395, 0.        ],\n",
       "         [0.        , 0.        , 0.        , ..., 0.01750898,\n",
       "          0.75585276, 0.        ]],\n",
       "\n",
       "        [[0.00601052, 0.        , 0.49491942, ..., 0.5936025 ,\n",
       "          0.18040234, 0.395083  ],\n",
       "         [0.        , 0.        , 0.49787325, ..., 0.7380083 ,\n",
       "          0.        , 0.6149037 ],\n",
       "         [0.        , 0.        , 0.        , ..., 1.066178  ,\n",
       "          0.        , 0.79079604],\n",
       "         ...,\n",
       "         [0.33695656, 0.        , 0.        , ..., 0.58633417,\n",
       "          0.29401705, 0.5494453 ],\n",
       "         [0.92371887, 0.09884169, 0.08409116, ..., 0.52002996,\n",
       "          0.2907089 , 0.        ],\n",
       "         [0.        , 0.        , 0.17411429, ..., 0.380977  ,\n",
       "          0.62411124, 0.        ]],\n",
       "\n",
       "        [[0.        , 0.        , 0.        , ..., 0.85630476,\n",
       "          0.19993168, 0.47976553],\n",
       "         [0.        , 0.9053197 , 0.9648621 , ..., 0.8108526 ,\n",
       "          0.06312719, 0.7805146 ],\n",
       "         [0.        , 0.2440934 , 0.02721066, ..., 0.98010373,\n",
       "          0.12751238, 1.0480331 ],\n",
       "         ...,\n",
       "         [0.        , 0.        , 0.06544615, ..., 0.50716805,\n",
       "          0.28136417, 1.149559  ],\n",
       "         [0.        , 0.        , 0.        , ..., 0.6198709 ,\n",
       "          0.22162995, 0.4342891 ],\n",
       "         [0.        , 0.        , 0.        , ..., 0.8047244 ,\n",
       "          0.2171284 , 0.        ]],\n",
       "\n",
       "        ...,\n",
       "\n",
       "        [[1.35174   , 0.        , 0.83408153, ..., 3.0339565 ,\n",
       "          0.00802273, 0.        ],\n",
       "         [0.        , 1.5776337 , 0.25185865, ..., 3.143519  ,\n",
       "          0.45643753, 0.        ],\n",
       "         [0.        , 2.876587  , 0.83200425, ..., 3.6316416 ,\n",
       "          0.95873284, 0.8993889 ],\n",
       "         ...,\n",
       "         [0.        , 1.4615606 , 1.1706321 , ..., 2.0401    ,\n",
       "          1.0910113 , 1.2896485 ],\n",
       "         [0.        , 0.3263446 , 0.31670675, ..., 0.9250916 ,\n",
       "          0.45023024, 0.36677137],\n",
       "         [0.4997878 , 0.28157556, 0.30553135, ..., 0.34378487,\n",
       "          0.        , 0.        ]],\n",
       "\n",
       "        [[1.4203539 , 0.        , 0.36206955, ..., 2.0260608 ,\n",
       "          0.05419785, 0.        ],\n",
       "         [1.0059547 , 1.300211  , 0.69773126, ..., 2.1494706 ,\n",
       "          0.3368964 , 0.        ],\n",
       "         [0.07247835, 0.80674064, 0.9466326 , ..., 2.3447225 ,\n",
       "          0.3698148 , 0.27137834],\n",
       "         ...,\n",
       "         [0.        , 0.52165556, 0.56812835, ..., 1.0887188 ,\n",
       "          0.52239585, 0.5700328 ],\n",
       "         [0.        , 0.        , 0.4939682 , ..., 0.64373505,\n",
       "          0.        , 0.        ],\n",
       "         [1.2829257 , 0.        , 0.26367122, ..., 0.3325364 ,\n",
       "          0.        , 0.        ]],\n",
       "\n",
       "        [[0.19588219, 0.87567747, 0.        , ..., 1.23984   ,\n",
       "          0.24727747, 0.        ],\n",
       "         [0.        , 0.6443249 , 0.        , ..., 1.311815  ,\n",
       "          0.40198788, 0.        ],\n",
       "         [0.        , 0.09728774, 0.0829637 , ..., 1.319159  ,\n",
       "          0.19006622, 0.        ],\n",
       "         ...,\n",
       "         [0.        , 0.        , 0.        , ..., 0.05767217,\n",
       "          0.30900118, 0.00936086],\n",
       "         [0.        , 0.        , 0.9636793 , ..., 0.22993854,\n",
       "          0.        , 0.        ],\n",
       "         [0.        , 0.        , 1.4722625 , ..., 0.3244481 ,\n",
       "          0.        , 0.        ]]]], dtype=float32)"
      ]
     },
     "execution_count": 9,
     "metadata": {},
     "output_type": "execute_result"
    }
   ],
   "source": [
    "print(\"[INFO] classifying image with ...\")\n",
    "#P = imagenet_utils.decode_predictions(preds)\n",
    "num_classes = \n",
    "top_model = Sequential()\n",
    "top_model.add(Dropout(dropout_keep_prob))\n",
    "top_model.add(Flatten())\n",
    "top_model.add(Dense(units=num_classes, activation='sigmoid'))"
   ]
  },
  {
   "cell_type": "code",
   "execution_count": 10,
   "metadata": {},
   "outputs": [
    {
     "data": {
      "text/plain": [
       "(1, 8, 8, 2048)"
      ]
     },
     "execution_count": 10,
     "metadata": {},
     "output_type": "execute_result"
    }
   ],
   "source": [
    "preds.shape"
   ]
  },
  {
   "cell_type": "code",
   "execution_count": null,
   "metadata": {
    "collapsed": true
   },
   "outputs": [],
   "source": []
  }
 ],
 "metadata": {
  "kernelspec": {
   "display_name": "Python 3",
   "language": "python",
   "name": "python3"
  },
  "language_info": {
   "codemirror_mode": {
    "name": "ipython",
    "version": 3
   },
   "file_extension": ".py",
   "mimetype": "text/x-python",
   "name": "python",
   "nbconvert_exporter": "python",
   "pygments_lexer": "ipython3",
   "version": "3.6.1"
  }
 },
 "nbformat": 4,
 "nbformat_minor": 2
}
