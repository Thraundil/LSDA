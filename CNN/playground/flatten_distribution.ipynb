{
 "cells": [
  {
   "cell_type": "code",
   "execution_count": 31,
   "metadata": {},
   "outputs": [
    {
     "data": {
      "image/png": "[encoded data removed]",
      "text/plain": [
       "<Figure size 432x288 with 1 Axes>"
      ]
     },
     "metadata": {},
     "output_type": "display_data"
    }
   ],
   "source": [
    "import numpy as np\n",
    "import matplotlib.pyplot as plt\n",
    "import time\n",
    "#import copy\n",
    "\n",
    "np.random.seed(42)\n",
    "\n",
    "# Generate initial distribution of labels\n",
    "N_imgs = 10**3 # number of images\n",
    "N_labels = 250 # number of different labels\n",
    "all_labels = np.zeros((N_imgs, N_labels)) # perhaps uses too much memory?\n",
    "mean_no_labels = 5 # becomes 1 larger below\n",
    "\n",
    "for n in range(N_imgs):\n",
    "    num_labels = np.random.poisson(mean_no_labels) + 1\n",
    "    labels = np.random.randint(N_labels, size=num_labels)\n",
    "    for j in range(N_labels):\n",
    "        if j in labels:\n",
    "            all_labels[n,j] = 1\n",
    "    \n",
    "# The initial, skewed distribution of labels that we want to even out\n",
    "label_dist = np.sum(all_labels, axis=0) \n",
    "no_labels_init = np.sum(label_dist)\n",
    "Z_init = np.sum(np.exp(-label_dist/no_labels_init))/N_labels\n",
    "plt.bar(np.linspace(0,N_labels-1,N_labels),label_dist)\n",
    "plt.show()"
   ]
  },
  {
   "cell_type": "code",
   "execution_count": 30,
   "metadata": {},
   "outputs": [
    {
     "data": {
      "image/png": "[encoded data removed]",
      "text/plain": [
       "<Figure size 432x288 with 1 Axes>"
      ]
     },
     "metadata": {},
     "output_type": "display_data"
    },
    {
     "name": "stdout",
     "output_type": "stream",
     "text": [
      "Final no. images:  1507\n",
      "No. batches of generated \"images\":  26\n",
      "Total runtime:  0.6438839435577393\n"
     ]
    }
   ],
   "source": [
    "# Find images with rarest label and augment those.\n",
    "\n",
    "ratio = 1.5 # ratio of the final and initial number of images \n",
    "N_imgs_max = N_imgs*ratio\n",
    "c = 0\n",
    "\n",
    "t1 = time.time()\n",
    "while N_imgs < N_imgs_max:    \n",
    "    c += 1 # counter\n",
    "    # Check if we have enough images\n",
    "    N_imgs_now = all_labels.shape[0]\n",
    "    if N_imgs_now >= N_imgs_max:\n",
    "        break\n",
    "\n",
    "    sorted_labels = np.sort(label_dist)\n",
    "    sorted_label_ids = np.argsort(label_dist)\n",
    "    rarest_label = sorted_label_ids[np.where(sorted_labels > 0)[0][0]]\n",
    "    imgs_with_rarest_label = np.array([i for i in range(N_imgs) if all_labels[i,rarest_label]==1])\n",
    "    all_labels = np.concatenate((all_labels, all_labels[imgs_with_rarest_label]), axis=0)\n",
    "    label_dist = np.sum(all_labels, axis=0) # update the distribution of labels\n",
    "\n",
    "    N_imgs = all_labels.shape[0] # update how many images there are after the just finished round of augmentation\n",
    "\n",
    "# The final, non-skewed distribution of labels\n",
    "label_dist = np.sum(all_labels, axis=0) \n",
    "plt.bar(np.linspace(0,N_labels-1,N_labels),label_dist)\n",
    "plt.show()\n",
    "\n",
    "t2 = time.time()\n",
    "\n",
    "print('Final no. images: ', N_imgs)\n",
    "print('No. batches of generated \"images\": ', c)\n",
    "print('Total runtime: ', t2-t1)\n"
   ]
  },
  {
   "cell_type": "code",
   "execution_count": 32,
   "metadata": {},
   "outputs": [
    {
     "data": {
      "image/png": "[encoded data removed]",
      "text/plain": [
       "<Figure size 432x288 with 1 Axes>"
      ]
     },
     "metadata": {},
     "output_type": "display_data"
    },
    {
     "name": "stdout",
     "output_type": "stream",
     "text": [
      "Final no. images:  1500\n",
      "Inititial Z-value:  0.9960082836330797\n",
      "Final Z-value:  0.9960080388317579\n",
      "Smallest possible Z:  0.9960079893439915\n",
      "Total runtime:  1.741882562637329\n",
      "Ratio of tried to accepted augmentations:  0.35765379113018597\n"
     ]
    }
   ],
   "source": [
    "# Augment with images depending on how much they contribute to flatten the distribution of labels\n",
    "\n",
    "ratio = 1.5 # ratio of the final and initial number of images \n",
    "N_imgs_max = N_imgs*ratio\n",
    "\n",
    "# Counters\n",
    "c_tot = 0\n",
    "c_aug = 0\n",
    "\n",
    "t1 = time.time()\n",
    "while N_imgs < N_imgs_max:\n",
    "    \n",
    "    for k in range(N_imgs): # doesn't loop through the ones appended during the current loop        \n",
    "        # Check if we have enough images\n",
    "        N_imgs_now = all_labels.shape[0]\n",
    "        if N_imgs_now == N_imgs_max:\n",
    "            break\n",
    "        \n",
    "        no_labels = np.sum(label_dist)\n",
    "        Z = np.sum(np.exp(-label_dist/no_labels))/N_labels # \"energy\" of system before augmentation\n",
    "        # Try augmentation\n",
    "        all_labels_aug = np.append(all_labels, [all_labels[k]], axis=0) \n",
    "        label_dist_aug = np.sum(all_labels_aug, axis=0) \n",
    "        no_labels_aug = np.sum(label_dist_aug)\n",
    "        Z_aug = np.exp(-label_dist_aug/no_labels_aug).sum()/N_labels # \"energy\" of system after augmentation\n",
    "        # Apply change if \"energy\" is lowered\n",
    "        if Z_aug < Z:\n",
    "            c_aug += 1\n",
    "            all_labels = all_labels_aug\n",
    "            label_dist = np.sum(all_labels, axis=0) # update the distribution of labels\n",
    "        #elif  # chance to augment anyways\n",
    "        \n",
    "        c_tot += 1\n",
    "\n",
    "    N_imgs = all_labels.shape[0] # update how many images there are after the just finished round of augmentation\n",
    "\n",
    "# The final, non-skewed distribution of labels\n",
    "label_dist = np.sum(all_labels, axis=0) \n",
    "plt.bar(np.linspace(0,N_labels-1,N_labels),label_dist)\n",
    "plt.show()\n",
    "\n",
    "t2 = time.time()\n",
    "\n",
    "print('Final no. images: ', N_imgs)\n",
    "print('Inititial Z-value: ', Z_init)\n",
    "print('Final Z-value: ', Z)\n",
    "min_Z = np.exp(-1/N_labels) # for a completely even distribution\n",
    "print('Smallest possible Z: ', min_Z)\n",
    "print('Total runtime: ', t2-t1)\n",
    "print('Ratio of tried to accepted augmentations: ', c_aug/c_tot)"
   ]
  },
  {
   "cell_type": "code",
   "execution_count": 5,
   "metadata": {},
   "outputs": [
    {
     "data": {
      "text/plain": [
       "\"\\n# Roberta's idea\\nall_labels_norm = copy.deepcopy(all_labels)\\nfor col in range(N_labels):\\n    all_labels_norm[:,col] = all_labels[:,col]/label_dist[col]\\nR_scores = all_labels_norm.sum(axis=1)\\n\""
      ]
     },
     "execution_count": 5,
     "metadata": {},
     "output_type": "execute_result"
    }
   ],
   "source": [
    "\"\"\"\n",
    "# Roberta's idea\n",
    "all_labels_norm = copy.deepcopy(all_labels)\n",
    "for col in range(N_labels):\n",
    "    all_labels_norm[:,col] = all_labels[:,col]/label_dist[col]\n",
    "R_scores = all_labels_norm.sum(axis=1)\n",
    "\"\"\""
   ]
  },
  {
   "cell_type": "code",
   "execution_count": null,
   "metadata": {},
   "outputs": [],
   "source": []
  }
 ],
 "metadata": {
  "kernelspec": {
   "display_name": "Python 3",
   "language": "python",
   "name": "python3"
  },
  "language_info": {
   "codemirror_mode": {
    "name": "ipython",
    "version": 3
   },
   "file_extension": ".py",
   "mimetype": "text/x-python",
   "name": "python",
   "nbconvert_exporter": "python",
   "pygments_lexer": "ipython3",
   "version": "3.6.5"
  }
 },
 "nbformat": 4,
 "nbformat_minor": 2
}
