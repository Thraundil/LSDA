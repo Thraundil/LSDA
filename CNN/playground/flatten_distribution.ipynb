{
 "cells": [
  {
   "cell_type": "code",
   "execution_count": 7,
   "metadata": {},
   "outputs": [
    {
     "data": {
      "image/png": "[encoded data removed]",
      "text/plain": [
       "<Figure size 432x288 with 1 Axes>"
      ]
     },
     "metadata": {},
     "output_type": "display_data"
    }
   ],
   "source": [
    "import numpy as np\n",
    "import matplotlib.pyplot as plt\n",
    "\n",
    "# Generate initial distribution of labels\n",
    "N_imgs = 10**3 # number of images\n",
    "N_labels = 100 # number of different labels\n",
    "all_labels = np.zeros((N_imgs, N_labels)) # perhaps uses too much memory?\n",
    "mean_no_labels = 5 # becomes 1 larger below\n",
    "\n",
    "for n in range(N_imgs):\n",
    "    num_labels = np.random.poisson(mean_no_labels) + 1\n",
    "    labels = np.random.randint(N_labels, size=num_labels)\n",
    "    for j in range(N_labels):\n",
    "        if j in labels:\n",
    "            all_labels[n,j] = 1\n",
    "    \n",
    "# The initial, skewed distribution of labels that we want to even out\n",
    "label_dist = np.sum(all_labels, axis=0) \n",
    "no_labels_init = np.sum(label_dist)\n",
    "Z_init = np.sum(np.exp(-label_dist/no_labels_init))\n",
    "plt.bar(np.linspace(0,N_labels-1,N_labels),label_dist)\n",
    "plt.show()"
   ]
  },
  {
   "cell_type": "code",
   "execution_count": 8,
   "metadata": {},
   "outputs": [
    {
     "data": {
      "image/png": "[encoded data removed]",
      "text/plain": [
       "<Figure size 432x288 with 1 Axes>"
      ]
     },
     "metadata": {},
     "output_type": "display_data"
    }
   ],
   "source": [
    "# Augment with images with depending on how frequent they are\n",
    "\n",
    "ratio = 1.5 # ratio of the final and initial number of images \n",
    "N_imgs_max = N_imgs*ratio\n",
    "\n",
    "while N_imgs < N_imgs_max:\n",
    "\n",
    "    for k in range(N_imgs): # doesn't loop through the ones appended during the current loop\n",
    "        # Check if we have enough images\n",
    "        N_imgs_now = all_labels.shape[0]\n",
    "        if N_imgs_now == N_imgs_max:\n",
    "            break\n",
    "        \n",
    "        no_labels = np.sum(label_dist)\n",
    "        Z = np.sum(np.exp(-label_dist/no_labels)) # \"energy\" of system before augmentation\n",
    "        # Try augmentation\n",
    "        all_labels_aug = np.append(all_labels, [all_labels[k]], axis=0) \n",
    "        label_dist_aug = np.sum(all_labels_aug, axis=0) \n",
    "        no_labels_aug = np.sum(label_dist_aug)\n",
    "        Z_aug = np.exp(-label_dist_aug/no_labels_aug).sum() # \"energy\" of system after augmentation\n",
    "        # Apply change if \"energy\" is lowered\n",
    "        if Z_aug < Z:\n",
    "            all_labels = all_labels_aug\n",
    "            label_dist = np.sum(all_labels, axis=0) # update the distribution of labels\n",
    "        \n",
    "        \"\"\" More \"intuitive\" way of doing it (with probabilities), but runs into numerical issues:\n",
    "        lk = np.argwhere(all_labels[k] == 1).flatten() # labels of img. k\n",
    "        Z_k = np.exp(-label_dist[lk]).sum() # label_dist[i] = n_i\n",
    "        Z = np.exp(-label_dist).sum()\n",
    "        p = 1-Z_k/Z # probability of augmentation\n",
    "        r = np.random.uniform()\n",
    "        if r < p: # criterion for augmentation\n",
    "            all_labels = np.append(all_labels, [all_labels[k]], axis=0) # adds the represention of the new image in the labels\n",
    "            label_dist = np.sum(all_labels, axis=0) # update the distribution of labels\n",
    "        \"\"\"\n",
    "            \n",
    "    N_imgs = all_labels.shape[0] # update how many images there are after the just finished round of augmentation\n",
    "\n",
    "# The final, non-skewed distribution of labels\n",
    "label_dist = np.sum(all_labels, axis=0) \n",
    "plt.bar(np.linspace(0,N_labels-1,N_labels),label_dist)\n",
    "plt.show()"
   ]
  },
  {
   "cell_type": "code",
   "execution_count": 9,
   "metadata": {},
   "outputs": [
    {
     "name": "stdout",
     "output_type": "stream",
     "text": [
      "Final no. images:  1500\n",
      "Inititial Z-value:  99.00505853650517\n",
      "Final Z-value:  99.00498413569227\n"
     ]
    }
   ],
   "source": [
    "print('Final no. images: ', N_imgs)\n",
    "print('Inititial Z-value: ', Z_init)\n",
    "print('Final Z-value: ', Z)"
   ]
  },
  {
   "cell_type": "code",
   "execution_count": null,
   "metadata": {},
   "outputs": [],
   "source": []
  }
 ],
 "metadata": {
  "kernelspec": {
   "display_name": "Python 3",
   "language": "python",
   "name": "python3"
  },
  "language_info": {
   "codemirror_mode": {
    "name": "ipython",
    "version": 3
   },
   "file_extension": ".py",
   "mimetype": "text/x-python",
   "name": "python",
   "nbconvert_exporter": "python",
   "pygments_lexer": "ipython3",
   "version": "3.6.5"
  }
 },
 "nbformat": 4,
 "nbformat_minor": 2
}
