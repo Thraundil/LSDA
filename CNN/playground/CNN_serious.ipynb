{
 "cells": [
  {
   "cell_type": "code",
   "execution_count": 18,
   "metadata": {},
   "outputs": [],
   "source": [
    "import pandas as pd\n",
    "import time\n",
    "global start_time\n",
    "def start_timer():\n",
    "    global start_time\n",
    "    start_time = pd.Timestamp.now()\n",
    "\n",
    "def tick(msg=''):\n",
    "    print(str(msg)+', Time Taken: %s'%(pd.Timestamp.now() - start_time))"
   ]
  },
  {
   "cell_type": "code",
   "execution_count": 19,
   "metadata": {},
   "outputs": [],
   "source": [
    "import os\n",
    "import cv2\n",
    "import numpy as np\n",
    "\n",
    "from tqdm import tqdm\n",
    "from keras.models import Sequential\n",
    "from keras.layers import AveragePooling2D, Flatten\n",
    "from keras.applications import InceptionV3\n",
    "from keras.applications import imagenet_utils\n",
    "from keras.applications.inception_v3 import preprocess_input\n",
    "\n",
    "from keras.preprocessing.image import load_img\n",
    "from keras.preprocessing.image import img_to_array\n",
    "from keras.preprocessing.image import ImageDataGenerator"
   ]
  },
  {
   "cell_type": "code",
   "execution_count": 20,
   "metadata": {},
   "outputs": [],
   "source": [
    "folder = '../data/raw_images/train/'\n",
    "image_files = os.listdir(folder)"
   ]
  },
  {
   "cell_type": "code",
   "execution_count": 21,
   "metadata": {},
   "outputs": [
    {
     "name": "stderr",
     "output_type": "stream",
     "text": [
      "  0%|          | 0/96051 [00:00<?, ?it/s]\n"
     ]
    }
   ],
   "source": [
    "inputShape = (299, 299)\n",
    "incep_model = InceptionV3(weights=\"imagenet\", include_top=False)\n",
    "\n",
    "model = Sequential()\n",
    "model.add(incep_model)\n",
    "model.add(AveragePooling2D(pool_size=(8,8), strides=None, padding='valid', data_format=None))\n",
    "\n",
    "\n",
    "for image_file in tqdm(image_files):\n",
    "    t1 = time.time()\n",
    "    image = load_img(os.path.join(folder,image_file), target_size=inputShape)\n",
    "    image = img_to_array(image)\n",
    "    image = np.expand_dims(image, axis=0)\n",
    "    image = preprocess_input(image)\n",
    "    preds = model.predict(image).flatten()\n",
    "    t2 = time.time()\n",
    "    break"
   ]
  },
  {
   "cell_type": "code",
   "execution_count": 22,
   "metadata": {},
   "outputs": [
    {
     "name": "stdout",
     "output_type": "stream",
     "text": [
      "(2048,) 8.196559429168701\n"
     ]
    }
   ],
   "source": [
    "print(preds.shape, t2-t1)"
   ]
  },
  {
   "cell_type": "code",
   "execution_count": null,
   "metadata": {},
   "outputs": [],
   "source": []
  }
 ],
 "metadata": {
  "kernelspec": {
   "display_name": "Python 3",
   "language": "python",
   "name": "python3"
  },
  "language_info": {
   "codemirror_mode": {
    "name": "ipython",
    "version": 3
   },
   "file_extension": ".py",
   "mimetype": "text/x-python",
   "name": "python",
   "nbconvert_exporter": "python",
   "pygments_lexer": "ipython3",
   "version": "3.6.5"
  }
 },
 "nbformat": 4,
 "nbformat_minor": 2
}
