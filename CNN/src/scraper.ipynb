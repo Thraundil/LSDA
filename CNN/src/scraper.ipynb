{
 "cells": [
  {
   "cell_type": "code",
   "execution_count": 1,
   "metadata": {
    "collapsed": true
   },
   "outputs": [],
   "source": [
    "DOWNLOAD_AMOUNT = 500 # set to none for unlimited \n",
    "LABELS_PATH = '../data/labels/'\n",
    "LABEL_CNT = 228\n",
    "IMG_SIZE = 299"
   ]
  },
  {
   "cell_type": "code",
   "execution_count": 2,
   "metadata": {
    "collapsed": true
   },
   "outputs": [],
   "source": [
    "import numpy as np\n",
    "import os\n",
    "import zipfile\n",
    "import json\n",
    "import h5py\n",
    "import urllib3\n",
    "import multiprocessing\n",
    "from PIL import Image\n",
    "from tqdm import tqdm\n",
    "from urllib3.util import Retry\n",
    "urllib3.disable_warnings()\n",
    "import io"
   ]
  },
  {
   "cell_type": "markdown",
   "metadata": {},
   "source": [
    "# Load image urls"
   ]
  },
  {
   "cell_type": "code",
   "execution_count": 3,
   "metadata": {
    "collapsed": true
   },
   "outputs": [],
   "source": [
    "def parse(fname, path, max_parse=None):\n",
    "    \"\"\"\n",
    "    If the given filename does not exist, unzips a file called \"<fname>.zip\"\n",
    "    \"\"\"\n",
    "    if not os.path.exists(fname):\n",
    "        # unzip first\n",
    "        with zipfile.ZipFile(path + fname + '.zip',\"r\") as zip_ref:\n",
    "            zip_ref.extractall(path)\n",
    "            \n",
    "    ids_urls = []\n",
    "    ids_labels = []\n",
    "    with open(path + fname, 'r') as f:\n",
    "        data = json.load(f)\n",
    "        for image in data[\"images\"]:\n",
    "            url = image[\"url\"]\n",
    "            id = image[\"imageId\"]\n",
    "            ids_urls.append((id, url))\n",
    "        if \"annotations\" in data.keys():\n",
    "            for image in data[\"annotations\"]:\n",
    "                label_list = np.array(list(map(int, image[\"labelId\"])))\n",
    "                label_list = label_list - 1\n",
    "                id = image[\"imageId\"]\n",
    "                label_vector = np.zeros(LABEL_CNT, dtype=np.int8)\n",
    "                label_vector[label_list] = 1\n",
    "                ids_labels.append((id, label_vector))\n",
    "    \n",
    "    if max_parse is not None:\n",
    "        ids_urls = ids_urls[:max_parse]\n",
    "        ids_labels = ids_labels[:max_parse]\n",
    "        \n",
    "    return ids_urls, ids_labels"
   ]
  },
  {
   "cell_type": "code",
   "execution_count": 4,
   "metadata": {
    "collapsed": true
   },
   "outputs": [],
   "source": [
    "train_ids_urls, train_ids_labels = parse('train.json', LABELS_PATH, max_parse=DOWNLOAD_AMOUNT)\n",
    "val_ids_urls, val_ids_labels = parse('validation.json', LABELS_PATH, max_parse=DOWNLOAD_AMOUNT)\n",
    "test_ids_urls, _ = parse('test.json', LABELS_PATH, max_parse=DOWNLOAD_AMOUNT)"
   ]
  },
  {
   "cell_type": "markdown",
   "metadata": {},
   "source": [
    "# Load Images"
   ]
  },
  {
   "cell_type": "code",
   "execution_count": 10,
   "metadata": {},
   "outputs": [],
   "source": [
    "def download_image(id_url_fname):\n",
    "    id, url, fname = id_url_fname\n",
    "    if not os.path.exists(fname):\n",
    "        http = urllib3.PoolManager(retries=Retry(connect=3, read=2, redirect=3))\n",
    "        response = http.request(\"GET\", url)\n",
    "        image = Image.open(io.BytesIO(response.data))\n",
    "        image = image.resize((IMG_SIZE, IMG_SIZE))\n",
    "        image_rgb = image.convert(\"RGB\")\n",
    "        image_rgb.save(fname, format='JPEG', quality=90)\n",
    "    return\n",
    "    \n",
    "\n",
    "def download(ids_urls, outdir):\n",
    "    if not os.path.exists(outdir):\n",
    "        os.mkdir(outdir)\n",
    "    params = [(id, url, os.path.join(outdir, \"{}.jpg\".format(id))) for (id, url) in ids_urls]\n",
    "    pool = multiprocessing.Pool(processes=30)\n",
    "    with tqdm(total=len(ids_urls)) as progress_bar:\n",
    "        for _ in pool.imap_unordered(download_image, params):\n",
    "            progress_bar.update(1)"
   ]
  },
  {
   "cell_type": "code",
   "execution_count": 12,
   "metadata": {},
   "outputs": [
    {
     "name": "stderr",
     "output_type": "stream",
     "text": [
      "100%|██████████| 500/500 [00:05<00:00, 84.51it/s]\n",
      "100%|██████████| 500/500 [00:06<00:00, 80.73it/s]\n",
      "100%|██████████| 500/500 [00:06<00:00, 82.77it/s]\n"
     ]
    }
   ],
   "source": [
    "if not os.path.exists('../data/raw_images/'):\n",
    "    os.mkdir('../data/raw_images/')\n",
    "download(train_ids_urls, '../data/raw_images/train/')\n",
    "download(val_ids_urls, '../data/raw_images/validation/')\n",
    "download(test_ids_urls, '../data/raw_images/test/')"
   ]
  }
 ],
 "metadata": {
  "kernelspec": {
   "display_name": "Python 3",
   "language": "python",
   "name": "python3"
  },
  "language_info": {
   "codemirror_mode": {
    "name": "ipython",
    "version": 3
   },
   "file_extension": ".py",
   "mimetype": "text/x-python",
   "name": "python",
   "nbconvert_exporter": "python",
   "pygments_lexer": "ipython3",
   "version": "3.6.3"
  }
 },
 "nbformat": 4,
 "nbformat_minor": 2
}
