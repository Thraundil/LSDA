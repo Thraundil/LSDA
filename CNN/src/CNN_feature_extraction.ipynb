{
 "cells": [
  {
   "cell_type": "markdown",
   "metadata": {},
   "source": [
    "# CNN feature extraction\n",
    "extracts features from images using a pretrained cnn"
   ]
  },
  {
   "cell_type": "code",
   "execution_count": null,
   "metadata": {},
   "outputs": [],
   "source": [
    "import os\n",
    "import cv2\n",
    "import numpy as np\n",
    "import h5py\n",
    "import time\n",
    "\n",
    "from tqdm import tqdm\n",
    "from keras.models import Sequential\n",
    "from keras.layers import AveragePooling2D, Flatten\n",
    "from keras.applications import InceptionV3\n",
    "from keras.applications import imagenet_utils\n",
    "from keras.applications.inception_v3 import preprocess_input\n",
    "\n",
    "from keras.preprocessing.image import load_img\n",
    "from keras.preprocessing.image import img_to_array\n",
    "from keras.preprocessing.image import ImageDataGenerator"
   ]
  },
  {
   "cell_type": "code",
   "execution_count": null,
   "metadata": {},
   "outputs": [],
   "source": [
    "BATCH_SIZE = 500"
   ]
  },
  {
   "cell_type": "code",
   "execution_count": null,
   "metadata": {},
   "outputs": [],
   "source": [
    "MODEL = Sequential()\n",
    "MODEL.add(InceptionV3(weights=\"imagenet\", include_top=False))\n",
    "MODEL.add(AveragePooling2D(pool_size=(8,8), strides=None, padding='valid', data_format=None))"
   ]
  },
  {
   "cell_type": "code",
   "execution_count": 1,
   "metadata": {},
   "outputs": [],
   "source": [
    "def load_images(raw_images_dir, start, end):\n",
    "    images = np.zeros((end - start, 299, 299, 3))\n",
    "    for i in range(start, end):\n",
    "        try:\n",
    "            image = load_img(os.path.join(raw_images_dir, \"{}.jpg\".format(i)) , target_size= (299, 299))\n",
    "            image = img_to_array(image)\n",
    "            image = np.expand_dims(image, axis=0)\n",
    "            image = preprocess_input(image)\n",
    "            images[i- start] = image[0]\n",
    "        except:\n",
    "            print('WARNING: failed to access image %i' % i)\n",
    "    return images\n",
    "        "
   ]
  },
  {
   "cell_type": "code",
   "execution_count": null,
   "metadata": {},
   "outputs": [],
   "source": [
    "def extract(raw_images_dir, out_dir):\n",
    "    # get list of images\n",
    "    image_files = os.listdir(raw_images_dir)\n",
    "    \n",
    "    n = len(image_files)\n",
    "    \n",
    "    features = np.zeros((n+1, 2048))\n",
    "    \n",
    "    with tqdm(range(0, n)) as progress_bar:\n",
    "        batch_start = 1\n",
    "        while batch_start < n:\n",
    "            this_batch_size = min(BATCH_SIZE, n - batch_start + 1)\n",
    "            upper_bound = min(batch_start + BATCH_SIZE, n+1)\n",
    "            \n",
    "            # get images\n",
    "            batch = load_images(raw_images_dir, batch_start, upper_bound)\n",
    "            \n",
    "            # get ccn predictions\n",
    "            preds = MODEL.predict(batch).reshape([this_batch_size, 2048])\n",
    "            \n",
    "            # save to features\n",
    "            features[batch_start:upper_bound] = preds\n",
    "            \n",
    "            batch_start += this_batch_size\n",
    "            progress_bar.update(this_batch_size)\n",
    "        \n",
    "    if not os.path.exists(out_dir):\n",
    "        os.mkdir(out_dir)\n",
    "    f = h5py.File(out_dir + 'incept.hdf5')\n",
    "    f['a'] = features\n",
    "    f.close()\n",
    "    "
   ]
  },
  {
   "cell_type": "code",
   "execution_count": null,
   "metadata": {},
   "outputs": [],
   "source": [
    "if not os.path.exists('../data/features/'):\n",
    "    os.mkdir('../data/features/')\n",
    "extract('../data/raw_images/validation/', '../data/features/validation/')\n",
    "extract('../data/raw_images/train/', '../data/features/train/')\n",
    "extract('../data/raw_images/test/', '../data/features/test/')"
   ]
  }
 ],
 "metadata": {
  "kernelspec": {
   "display_name": "Python 3",
   "language": "python",
   "name": "python3"
  },
  "language_info": {
   "codemirror_mode": {
    "name": "ipython",
    "version": 3
   },
   "file_extension": ".py",
   "mimetype": "text/x-python",
   "name": "python",
   "nbconvert_exporter": "python",
   "pygments_lexer": "ipython3",
   "version": "3.5.2"
  }
 },
 "nbformat": 4,
 "nbformat_minor": 2
}
